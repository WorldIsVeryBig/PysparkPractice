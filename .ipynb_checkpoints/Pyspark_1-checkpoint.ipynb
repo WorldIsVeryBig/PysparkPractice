{
 "cells": [
  {
   "cell_type": "code",
   "execution_count": 4,
   "id": "de18987e-d7f8-4669-93d6-d092988987c8",
   "metadata": {},
   "outputs": [
    {
     "name": "stderr",
     "output_type": "stream",
     "text": [
      "WARNING: An illegal reflective access operation has occurred\n",
      "WARNING: Illegal reflective access by org.apache.spark.unsafe.Platform (file:/usr/local/spark-3.2.0-bin-hadoop3.2/jars/spark-unsafe_2.12-3.2.0.jar) to constructor java.nio.DirectByteBuffer(long,int)\n",
      "WARNING: Please consider reporting this to the maintainers of org.apache.spark.unsafe.Platform\n",
      "WARNING: Use --illegal-access=warn to enable warnings of further illegal reflective access operations\n",
      "WARNING: All illegal access operations will be denied in a future release\n",
      "Using Spark's default log4j profile: org/apache/spark/log4j-defaults.properties\n",
      "Setting default log level to \"WARN\".\n",
      "To adjust logging level use sc.setLogLevel(newLevel). For SparkR, use setLogLevel(newLevel).\n",
      "21/12/29 08:55:14 WARN NativeCodeLoader: Unable to load native-hadoop library for your platform... using builtin-java classes where applicable\n"
     ]
    }
   ],
   "source": [
    "from pyspark import SparkContext\n",
    "sc = SparkContext('local', 'Pyspark practice')"
   ]
  },
  {
   "cell_type": "code",
   "execution_count": 53,
   "id": "fc1a69cb-93b9-4af0-9fba-09797d3d94ea",
   "metadata": {},
   "outputs": [
    {
     "data": {
      "text/plain": [
       "[('R113710856', 5.0),\n",
       " ('Y231312017', 9.5),\n",
       " ('M299296037', 10.375),\n",
       " ('I143881581', 12.0),\n",
       " ('V172730836', 12.5),\n",
       " ('H193255855', 22.0)]"
      ]
     },
     "execution_count": 53,
     "metadata": {},
     "output_type": "execute_result"
    }
   ],
   "source": [
    "txt = './test.txt'\n",
    "rdd1 = sc.textFile(txt)\n",
    "rdd1.flatMap(lambda rdd:rdd.split(\"|\")).\\\n",
    "    map(lambda rdd:rdd.split(\",\")).\\\n",
    "    filter(lambda rdd:int(rdd[1])>=0).\\\n",
    "    map(lambda rdd:(rdd[0],(int(rdd[1]),1))).\\\n",
    "    reduceByKey(lambda x,y:(x[0]+y[0],x[1]+y[1])).\\\n",
    "    map(lambda x:(x[0],(x[1][0]/x[1][1]))).\\\n",
    "    sortBy(lambda x:x[1]).collect()"
   ]
  },
  {
   "cell_type": "code",
   "execution_count": null,
   "id": "afcd7082-c65f-4b6c-b487-e9d6cfca7c48",
   "metadata": {},
   "outputs": [],
   "source": []
  },
  {
   "cell_type": "code",
   "execution_count": null,
   "id": "a058d77a-5c0a-496e-8d8e-1fb04716d3f0",
   "metadata": {},
   "outputs": [],
   "source": []
  },
  {
   "cell_type": "code",
   "execution_count": null,
   "id": "d26873a9-58b6-4cc1-9b68-d08bdde586a0",
   "metadata": {},
   "outputs": [],
   "source": []
  }
 ],
 "metadata": {
  "kernelspec": {
   "display_name": "Python 3 (ipykernel)",
   "language": "python",
   "name": "python3"
  },
  "language_info": {
   "codemirror_mode": {
    "name": "ipython",
    "version": 3
   },
   "file_extension": ".py",
   "mimetype": "text/x-python",
   "name": "python",
   "nbconvert_exporter": "python",
   "pygments_lexer": "ipython3",
   "version": "3.9.7"
  }
 },
 "nbformat": 4,
 "nbformat_minor": 5
}
