{
 "cells": [
  {
   "cell_type": "code",
   "execution_count": 2,
   "id": "c1315cba-3538-4a15-8d3f-e79d0a8372fa",
   "metadata": {},
   "outputs": [
    {
     "name": "stderr",
     "output_type": "stream",
     "text": [
      "WARNING: An illegal reflective access operation has occurred\n",
      "WARNING: Illegal reflective access by org.apache.spark.unsafe.Platform (file:/usr/local/spark-3.2.0-bin-hadoop3.2/jars/spark-unsafe_2.12-3.2.0.jar) to constructor java.nio.DirectByteBuffer(long,int)\n",
      "WARNING: Please consider reporting this to the maintainers of org.apache.spark.unsafe.Platform\n",
      "WARNING: Use --illegal-access=warn to enable warnings of further illegal reflective access operations\n",
      "WARNING: All illegal access operations will be denied in a future release\n",
      "Using Spark's default log4j profile: org/apache/spark/log4j-defaults.properties\n",
      "Setting default log level to \"WARN\".\n",
      "To adjust logging level use sc.setLogLevel(newLevel). For SparkR, use setLogLevel(newLevel).\n",
      "22/01/19 07:58:53 WARN NativeCodeLoader: Unable to load native-hadoop library for your platform... using builtin-java classes where applicable\n"
     ]
    }
   ],
   "source": [
    "from pyspark import SparkContext\n",
    "sc = SparkContext('local', 'Pyspark practice_2')"
   ]
  },
  {
   "cell_type": "code",
   "execution_count": 4,
   "id": "6a63ddcc-a841-44d5-b64d-17bef490213d",
   "metadata": {},
   "outputs": [
    {
     "name": "stderr",
     "output_type": "stream",
     "text": [
      "                                                                                \r"
     ]
    },
    {
     "data": {
      "text/plain": [
       "875"
      ]
     },
     "execution_count": 4,
     "metadata": {},
     "output_type": "execute_result"
    }
   ],
   "source": [
    "data_txt = 'DUBAI_20200229_new.txt'\n",
    "map_txt = 'url_id_mapping.txt'\n",
    "rdd1 = sc.textFile(data_txt)\n",
    "rdd2 = sc.textFile(map_txt)\n",
    "def merge_two_dicts(x, y):\n",
    "    z = x.copy()\n",
    "    z.update(y)\n",
    "    return z\n",
    "rdd2 = rdd2.map(lambda rdd:rdd.split(\",\"))\n",
    "a = rdd1.map(lambda rdd:rdd.split(\",\")).\\\n",
    "     filter(lambda rdd:len(rdd)==6).\\\n",
    "     filter(lambda rdd:rdd[2]=='2020-02-29').\\\n",
    "     map(lambda rdd:(rdd[1]+rdd[0],rdd[2],rdd[3],rdd[4],rdd[5])).\\\n",
    "     map(lambda rdd:(rdd[2],{rdd[0]:int(rdd[4])})).\\\n",
    "     reduceByKey(lambda x, y:merge_two_dicts(x, y)).\\\n",
    "     map(lambda rdd: (rdd[0],{'uv':len(rdd[1]), 'vc':sum(rdd[1].values())})).\\\n",
    "     filter(lambda rdd:(rdd[1][\"uv\"]>1000)).\\\n",
    "     join(rdd2).\\\n",
    "     map(lambda rdd:(rdd[1][1],rdd[1][0])).\\\n",
    "     sortBy(lambda rdd:rdd[1]['vc'], ascending=False)"
   ]
  },
  {
   "cell_type": "code",
   "execution_count": null,
   "id": "283fbc3b-baa8-4d33-9b52-93dbc7767acb",
   "metadata": {},
   "outputs": [],
   "source": []
  }
 ],
 "metadata": {
  "kernelspec": {
   "display_name": "Python 3 (ipykernel)",
   "language": "python",
   "name": "python3"
  },
  "language_info": {
   "codemirror_mode": {
    "name": "ipython",
    "version": 3
   },
   "file_extension": ".py",
   "mimetype": "text/x-python",
   "name": "python",
   "nbconvert_exporter": "python",
   "pygments_lexer": "ipython3",
   "version": "3.9.7"
  }
 },
 "nbformat": 4,
 "nbformat_minor": 5
}
