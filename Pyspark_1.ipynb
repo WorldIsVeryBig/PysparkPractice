{
 "cells": [
  {
   "cell_type": "code",
   "execution_count": 15,
   "id": "de18987e-d7f8-4669-93d6-d092988987c8",
   "metadata": {},
   "outputs": [
    {
     "name": "stderr",
     "output_type": "stream",
     "text": [
      "22/01/19 04:01:40 WARN Utils: Service 'SparkUI' could not bind on port 4040. Attempting port 4041.\n"
     ]
    }
   ],
   "source": [
    "from pyspark import SparkContext\n",
    "sc = SparkContext('local', 'Pyspark practice')"
   ]
  },
  {
   "cell_type": "code",
   "execution_count": 16,
   "id": "fc1a69cb-93b9-4af0-9fba-09797d3d94ea",
   "metadata": {},
   "outputs": [
    {
     "data": {
      "text/plain": [
       "[('R113710856', 5.0),\n",
       " ('Y231312017', 9.5),\n",
       " ('M299296037', 10.375),\n",
       " ('I143881581', 12.0),\n",
       " ('V172730836', 12.5),\n",
       " ('H193255855', 22.0)]"
      ]
     },
     "execution_count": 16,
     "metadata": {},
     "output_type": "execute_result"
    }
   ],
   "source": [
    "txt = 'test.txt'\n",
    "rdd1 = sc.textFile(txt)\n",
    "rdd1.flatMap(lambda rdd:rdd.split(\"|\")).\\\n",
    "    map(lambda rdd:rdd.split(\",\")).\\\n",
    "    filter(lambda rdd:int(rdd[1])>=0).\\\n",
    "    map(lambda rdd:(rdd[0],(int(rdd[1]),1))).\\\n",
    "    reduceByKey(lambda x,y:(x[0]+y[0],x[1]+y[1])).\\\n",
    "    map(lambda x:(x[0],(x[1][0]/x[1][1]))).\\\n",
    "    sortBy(lambda x:x[1]).collect()"
   ]
  },
  {
   "cell_type": "code",
   "execution_count": 17,
   "id": "1fd25cdc-7ebe-419d-b313-36cd35acf048",
   "metadata": {},
   "outputs": [],
   "source": [
    "sc.stop()"
   ]
  },
  {
   "cell_type": "code",
   "execution_count": null,
   "id": "788ab913-c7bb-445d-a61b-1b8c6c37a841",
   "metadata": {},
   "outputs": [],
   "source": []
  }
 ],
 "metadata": {
  "kernelspec": {
   "display_name": "Python 3 (ipykernel)",
   "language": "python",
   "name": "python3"
  },
  "language_info": {
   "codemirror_mode": {
    "name": "ipython",
    "version": 3
   },
   "file_extension": ".py",
   "mimetype": "text/x-python",
   "name": "python",
   "nbconvert_exporter": "python",
   "pygments_lexer": "ipython3",
   "version": "3.9.7"
  }
 },
 "nbformat": 4,
 "nbformat_minor": 5
}
